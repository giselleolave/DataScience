{
 "cells": [
  {
   "cell_type": "markdown",
   "id": "02e0464f-27e3-454a-8895-4b4935b21c4c",
   "metadata": {},
   "source": [
    "## My Jupyter Notebook on IBM Watson Studio"
   ]
  },
  {
   "cell_type": "markdown",
   "id": "4426f4b8-f613-4944-aeff-87e334ae401c",
   "metadata": {},
   "source": [
    "**Giselle Olave**\n",
    "Analista de datos\n"
   ]
  },
  {
   "cell_type": "markdown",
   "id": "e96e7be0-2a82-47ed-b7a4-8f00b6031e04",
   "metadata": {},
   "source": [
    "*Estoy interesada en la ciencia de datos debido a que me gusta la forma en que se les da sentido a enormes cantidades de datos y a partir de ellos generar prediciones y obtener información util para distintas áreasde interes*"
   ]
  },
  {
   "cell_type": "markdown",
   "id": "c8977ad7-ca9e-41b6-b5ee-b9404ef5754a",
   "metadata": {},
   "source": [
    "### operación básica de suma"
   ]
  },
  {
   "cell_type": "code",
   "execution_count": 3,
   "id": "a0a4c2c2-b696-4c62-af6e-6a885a1eba21",
   "metadata": {},
   "outputs": [
    {
     "data": {
      "text/plain": [
       "2"
      ]
     },
     "execution_count": 3,
     "metadata": {},
     "output_type": "execute_result"
    }
   ],
   "source": [
    "1+1"
   ]
  },
  {
   "cell_type": "markdown",
   "id": "ccf607c6-6507-4938-a3fc-63a9568b14f9",
   "metadata": {},
   "source": [
    "**Operaciones básicas**  \n",
    "1.Suma  \n",
    "2.Resta \n",
    "\n",
    "---------\n",
    "Ejemplos\n",
    "|Suma|resta|\n",
    "|-----|-----|\n",
    "|1+1|1-1|   \n"
   ]
  },
  {
   "cell_type": "code",
   "execution_count": null,
   "id": "e38b4117-32ef-4542-bfa8-b0517cf0f5fa",
   "metadata": {},
   "outputs": [],
   "source": []
  }
 ],
 "metadata": {
  "kernelspec": {
   "display_name": "Python",
   "language": "python",
   "name": "conda-env-python-py"
  },
  "language_info": {
   "codemirror_mode": {
    "name": "ipython",
    "version": 3
   },
   "file_extension": ".py",
   "mimetype": "text/x-python",
   "name": "python",
   "nbconvert_exporter": "python",
   "pygments_lexer": "ipython3",
   "version": "3.7.12"
  }
 },
 "nbformat": 4,
 "nbformat_minor": 5
}
